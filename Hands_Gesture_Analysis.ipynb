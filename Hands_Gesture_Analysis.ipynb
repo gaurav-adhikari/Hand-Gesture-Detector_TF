{
  "nbformat": 4,
  "nbformat_minor": 0,
  "metadata": {
    "colab": {
      "name": "Hands Gesture Analysis",
      "provenance": [],
      "collapsed_sections": [],
      "authorship_tag": "ABX9TyNPRGVFC15Cay0M6T9uEJmP",
      "include_colab_link": true
    },
    "kernelspec": {
      "name": "python3",
      "display_name": "Python 3"
    },
    "accelerator": "GPU"
  },
  "cells": [
    {
      "cell_type": "markdown",
      "metadata": {
        "id": "view-in-github",
        "colab_type": "text"
      },
      "source": [
        "<a href=\"https://colab.research.google.com/github/gaurav-adhikari/Hand_Gesture_Detector_TF/blob/master/Hands_Gesture_Analysis.ipynb\" target=\"_parent\"><img src=\"https://colab.research.google.com/assets/colab-badge.svg\" alt=\"Open In Colab\"/></a>"
      ]
    },
    {
      "cell_type": "code",
      "metadata": {
        "id": "Secap5aJgGWG",
        "colab_type": "code",
        "colab": {
          "base_uri": "https://localhost:8080/",
          "height": 128
        },
        "outputId": "bc152a68-fbda-40a1-fbb1-42207e0e3acc"
      },
      "source": [
        "from google.colab import drive\n",
        "drive.mount(\"/content/gdrive\")"
      ],
      "execution_count": 1,
      "outputs": [
        {
          "output_type": "stream",
          "text": [
            "Go to this URL in a browser: https://accounts.google.com/o/oauth2/auth?client_id=947318989803-6bn6qk8qdgf4n4g3pfee6491hc0brc4i.apps.googleusercontent.com&redirect_uri=urn%3aietf%3awg%3aoauth%3a2.0%3aoob&response_type=code&scope=email%20https%3a%2f%2fwww.googleapis.com%2fauth%2fdocs.test%20https%3a%2f%2fwww.googleapis.com%2fauth%2fdrive%20https%3a%2f%2fwww.googleapis.com%2fauth%2fdrive.photos.readonly%20https%3a%2f%2fwww.googleapis.com%2fauth%2fpeopleapi.readonly\n",
            "\n",
            "Enter your authorization code:\n",
            "··········\n",
            "Mounted at /content/gdrive\n"
          ],
          "name": "stdout"
        }
      ]
    },
    {
      "cell_type": "code",
      "metadata": {
        "id": "8O9QRro9gZ-H",
        "colab_type": "code",
        "colab": {}
      },
      "source": [
        "# Imports\n",
        "\n",
        "import os\n",
        "import numpy as np\n",
        "import pandas as pd\n",
        "\n",
        "from sklearn.preprocessing import OneHotEncoder\n",
        "import tensorflow.compat.v1 as tf\n",
        "\n",
        "tf.disable_v2_behavior()"
      ],
      "execution_count": 19,
      "outputs": []
    },
    {
      "cell_type": "code",
      "metadata": {
        "id": "C45kScVEgpoT",
        "colab_type": "code",
        "colab": {
          "base_uri": "https://localhost:8080/",
          "height": 145
        },
        "outputId": "ebd5b6d0-9534-495e-ec20-0f9b70b91839"
      },
      "source": [
        "import os\n",
        "for dirName, _ , signFiles in os.walk(\"/content/gdrive/My Drive/kaggle/SignLanguage\"):\n",
        "  for signFile in signFiles:\n",
        "    print(os.path.join(dirName,signFile)) "
      ],
      "execution_count": 3,
      "outputs": [
        {
          "output_type": "stream",
          "text": [
            "/content/gdrive/My Drive/kaggle/SignLanguage/amer_sign2.png\n",
            "/content/gdrive/My Drive/kaggle/SignLanguage/amer_sign3.png\n",
            "/content/gdrive/My Drive/kaggle/SignLanguage/american_sign_language.PNG\n",
            "/content/gdrive/My Drive/kaggle/SignLanguage/sign_mnist_test.csv\n",
            "/content/gdrive/My Drive/kaggle/SignLanguage/sign_mnist_train.csv\n",
            "/content/gdrive/My Drive/kaggle/SignLanguage/sign_mnist_test/sign_mnist_test.csv\n",
            "/content/gdrive/My Drive/kaggle/SignLanguage/sign_mnist_train/sign_mnist_train.csv\n"
          ],
          "name": "stdout"
        }
      ]
    },
    {
      "cell_type": "code",
      "metadata": {
        "id": "FtfcyWO5E17-",
        "colab_type": "code",
        "colab": {}
      },
      "source": [
        "learning_rate=0.0001"
      ],
      "execution_count": 4,
      "outputs": []
    },
    {
      "cell_type": "code",
      "metadata": {
        "id": "2KSfQSkcH9AM",
        "colab_type": "code",
        "colab": {}
      },
      "source": [
        "train=pd.read_csv(\"/content/gdrive/My Drive/kaggle/SignLanguage/sign_mnist_train/sign_mnist_train.csv\")\n",
        "test=pd.read_csv(\"/content/gdrive/My Drive/kaggle/SignLanguage/sign_mnist_test/sign_mnist_test.csv\")\n",
        "\n",
        "X_train=train.drop(\"label\",axis=1)\n",
        "X_test=test.drop('label',axis=1)\n",
        "y_train=train['label']\n",
        "y_test=test['label']\n",
        "\n",
        "X_train = (X_train/255).values\n",
        "X_test = (X_test/255).values"
      ],
      "execution_count": 5,
      "outputs": []
    },
    {
      "cell_type": "code",
      "metadata": {
        "id": "pgyRpX-qKLTV",
        "colab_type": "code",
        "colab": {}
      },
      "source": [
        "encoder=OneHotEncoder()\n",
        "\n",
        "y_train = encoder.fit_transform(y_train.values.reshape(-1,1)).toarray()\n",
        "y_test = encoder.fit_transform(y_test.values.reshape(-1,1)).toarray()"
      ],
      "execution_count": 6,
      "outputs": []
    },
    {
      "cell_type": "code",
      "metadata": {
        "id": "GKshPEM5KZvr",
        "colab_type": "code",
        "colab": {
          "base_uri": "https://localhost:8080/",
          "height": 35
        },
        "outputId": "e2bbdf38-daef-418e-d935-40ea071023c3"
      },
      "source": [
        "((X_train.shape,y_train.shape),(X_test.shape,y_test.shape)) "
      ],
      "execution_count": 7,
      "outputs": [
        {
          "output_type": "execute_result",
          "data": {
            "text/plain": [
              "(((27455, 784), (27455, 24)), ((7172, 784), (7172, 24)))"
            ]
          },
          "metadata": {
            "tags": []
          },
          "execution_count": 7
        }
      ]
    },
    {
      "cell_type": "code",
      "metadata": {
        "id": "gadLrRN5griz",
        "colab_type": "code",
        "colab": {}
      },
      "source": [
        "def createCNNLayer(inputData,inputChannelsCount, filterCount, filterShape,poolShape, name):\n",
        "\n",
        "  #Initialising filter\n",
        "  convFilterShape=[filterShape[0],filterShape[1],inputChannelsCount,filterCount]\n",
        "\n",
        "  weights= tf.Variable(tf.truncated_normal(convFilterShape,stddev=0.03),name=name+\"_W\")\n",
        "  bias= tf.Variable(tf.truncated_normal([filterCount]),name=name+\"_b\")\n",
        "\n",
        "  outLayer=tf.nn.conv2d(inputData,weights, [1,1,1,1],padding=\"SAME\")\n",
        "\n",
        "  outLayer+=bias\n",
        "\n",
        "  outLayer = tf.nn.relu(outLayer)\n",
        "\n",
        "\n",
        "  ksize = [1,poolShape[0],poolShape[1],1]\n",
        "\n",
        "  stride=[1,2,2,1]\n",
        "\n",
        "  outLayer=tf.nn.max_pool(outLayer,ksize,stride,padding=\"SAME\")\n",
        "\n",
        "  return outLayer"
      ],
      "execution_count": 8,
      "outputs": []
    },
    {
      "cell_type": "code",
      "metadata": {
        "id": "1oy5dLk_oHn1",
        "colab_type": "code",
        "colab": {}
      },
      "source": [
        "x=tf.placeholder(tf.float32,[None, 784])\n",
        "\n",
        "X_Shaped=tf.reshape(x,[-1,28,28,1])\n",
        "\n",
        "y=tf.placeholder(tf.float32,[None,10])"
      ],
      "execution_count": 9,
      "outputs": []
    },
    {
      "cell_type": "code",
      "metadata": {
        "id": "Lowsy7nUsCYJ",
        "colab_type": "code",
        "colab": {}
      },
      "source": [
        "layer1= createCNNLayer(X_Shaped,1,32,[5,5],[2,2],\"layer1\")\n",
        "layer2= createCNNLayer(layer1,32,64,[5,5],[2,2],\"layer2\")\n",
        "\n",
        "flattenedArray=tf.reshape(layer2,[-1,7*7*64])"
      ],
      "execution_count": 10,
      "outputs": []
    },
    {
      "cell_type": "code",
      "metadata": {
        "id": "2oROS0jEskB9",
        "colab_type": "code",
        "colab": {}
      },
      "source": [
        "wd1 = tf.Variable(tf.truncated_normal([7*7*64,1000],stddev=0.03,name=\"wd1\"))\n",
        "bd1 = tf.Variable(tf.truncated_normal([1000],stddev=0.01,name=\"bd1\"))\n",
        "denseLayer1 = tf.nn.relu((tf.matmul(flattenedArray,wd1)+bd1))\n",
        "\n",
        "\n",
        "wd2 = tf.Variable(tf.truncated_normal([1000,24],stddev=0.03,name=\"wd2\"))\n",
        "bd2 = tf.Variable(tf.truncated_normal([24],stddev=0.01,name=\"bd2\"))\n",
        "denseLayer2=tf.matmul(denseLayer1,wd2)+bd2\n",
        "yhat = tf.nn.softmax(denseLayer2)\n",
        "\n",
        "loss = tf.reduce_mean(tf.nn.softmax_cross_entropy_with_logits_v2(logits=denseLayer2,labels=y))\n",
        "\n",
        "optimiser= tf.train.AdamOptimizer(learning_rate).minimize(loss)\n",
        "\n",
        "corr_pred= tf.equal(tf.argmax(yhat, 1),tf.argmax(y,1))\n",
        "accuracy = tf.reduce_mean(tf.cast(corr_pred,tf.float32))"
      ],
      "execution_count": 14,
      "outputs": []
    },
    {
      "cell_type": "code",
      "metadata": {
        "id": "4EqrFIg4HR-1",
        "colab_type": "code",
        "colab": {
          "base_uri": "https://localhost:8080/",
          "height": 399
        },
        "outputId": "6aea575c-5fc6-487e-d7af-fcacb8cd7dfc"
      },
      "source": [
        "with tf.Session() as sess:\n",
        "\n",
        "  sess.run(tf.global_variables_initializer())\n",
        "\n",
        "  numBatches = int(len(y_train)/50)\n",
        "\n",
        "  for epoch in range(20):\n",
        "    \n",
        "    cost=0\n",
        "    a=0\n",
        "\n",
        "    for i in range(numBatches):\n",
        "     \n",
        "      batch_x = X_train[a:a+50]\n",
        "      batch_y = y_train[a:a+50]\n",
        "\n",
        "      _ , c= sess.run([optimiser,loss],feed_dict={x:batch_x,y:batch_y})\n",
        "\n",
        "      cost += c/numBatches\n",
        "      a+=50\n",
        "    \n",
        "    testDataAccuracy  = sess.run(accuracy,feed_dict={x:X_test,y:y_test})\n",
        "    print(\"total cost at \", epoch+1,\" iteration \",cost,\" test Accuracy: \", testDataAccuracy)\n",
        "\n",
        "print(\"Training Complete!!!\")"
      ],
      "execution_count": 18,
      "outputs": [
        {
          "output_type": "stream",
          "text": [
            "total cost at  1  iteration  2.7009233538136073  test Accuracy:  0.44116005\n",
            "total cost at  2  iteration  1.1873766756014297  test Accuracy:  0.6666202\n",
            "total cost at  3  iteration  0.6279306844392534  test Accuracy:  0.7466537\n",
            "total cost at  4  iteration  0.3677833430971165  test Accuracy:  0.7840212\n",
            "total cost at  5  iteration  0.21965970895600906  test Accuracy:  0.817903\n",
            "total cost at  6  iteration  0.1288323431514978  test Accuracy:  0.8400725\n",
            "total cost at  7  iteration  0.07544509960993276  test Accuracy:  0.8637758\n",
            "total cost at  8  iteration  0.0449125133878899  test Accuracy:  0.8781372\n",
            "total cost at  9  iteration  0.02851189698477719  test Accuracy:  0.8839933\n",
            "total cost at  10  iteration  0.019171554196154354  test Accuracy:  0.8898494\n",
            "total cost at  11  iteration  0.010760671267869502  test Accuracy:  0.8912437\n",
            "total cost at  12  iteration  0.008771823150214348  test Accuracy:  0.89626324\n",
            "total cost at  13  iteration  0.010529990537954706  test Accuracy:  0.8929169\n",
            "total cost at  14  iteration  0.0033380988378731683  test Accuracy:  0.90309536\n",
            "total cost at  15  iteration  0.0017438445955715084  test Accuracy:  0.90909094\n",
            "total cost at  16  iteration  0.0012450539414200065  test Accuracy:  0.9100669\n",
            "total cost at  17  iteration  0.0009571033015875623  test Accuracy:  0.9113218\n",
            "total cost at  18  iteration  0.0007828942045128566  test Accuracy:  0.91187954\n",
            "total cost at  19  iteration  0.029495374265048214  test Accuracy:  0.9135527\n",
            "total cost at  20  iteration  0.0022807035272915986  test Accuracy:  0.91592306\n",
            "Training Complete!!!\n"
          ],
          "name": "stdout"
        }
      ]
    },
    {
      "cell_type": "code",
      "metadata": {
        "id": "bDYf2xN6z2pq",
        "colab_type": "code",
        "colab": {}
      },
      "source": [
        ""
      ],
      "execution_count": 17,
      "outputs": []
    }
  ]
}