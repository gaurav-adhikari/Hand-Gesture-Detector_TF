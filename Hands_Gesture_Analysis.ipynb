{
  "nbformat": 4,
  "nbformat_minor": 0,
  "metadata": {
    "colab": {
      "name": "Hands Gesture Analysis",
      "provenance": [],
      "collapsed_sections": [],
      "authorship_tag": "ABX9TyMIr+FrLsEzCCeD6PgGfoM+",
      "include_colab_link": true
    },
    "kernelspec": {
      "name": "python3",
      "display_name": "Python 3"
    },
    "accelerator": "GPU"
  },
  "cells": [
    {
      "cell_type": "markdown",
      "metadata": {
        "id": "view-in-github",
        "colab_type": "text"
      },
      "source": [
        "<a href=\"https://colab.research.google.com/github/gaurav-adhikari/Hand_Gesture_Detector_TF/blob/master/Hands_Gesture_Analysis.ipynb\" target=\"_parent\"><img src=\"https://colab.research.google.com/assets/colab-badge.svg\" alt=\"Open In Colab\"/></a>"
      ]
    },
    {
      "cell_type": "code",
      "metadata": {
        "id": "Secap5aJgGWG",
        "colab_type": "code",
        "colab": {
          "base_uri": "https://localhost:8080/",
          "height": 128
        },
        "outputId": "c8e5765f-c569-4026-b27f-df9ad8940ae5"
      },
      "source": [
        "from google.colab import drive\n",
        "drive.mount(\"/content/gdrive\")"
      ],
      "execution_count": 1,
      "outputs": [
        {
          "output_type": "stream",
          "text": [
            "Go to this URL in a browser: https://accounts.google.com/o/oauth2/auth?client_id=947318989803-6bn6qk8qdgf4n4g3pfee6491hc0brc4i.apps.googleusercontent.com&redirect_uri=urn%3aietf%3awg%3aoauth%3a2.0%3aoob&response_type=code&scope=email%20https%3a%2f%2fwww.googleapis.com%2fauth%2fdocs.test%20https%3a%2f%2fwww.googleapis.com%2fauth%2fdrive%20https%3a%2f%2fwww.googleapis.com%2fauth%2fdrive.photos.readonly%20https%3a%2f%2fwww.googleapis.com%2fauth%2fpeopleapi.readonly\n",
            "\n",
            "Enter your authorization code:\n",
            "··········\n",
            "Mounted at /content/gdrive\n"
          ],
          "name": "stdout"
        }
      ]
    },
    {
      "cell_type": "code",
      "metadata": {
        "id": "8O9QRro9gZ-H",
        "colab_type": "code",
        "colab": {
          "base_uri": "https://localhost:8080/",
          "height": 92
        },
        "outputId": "d1672500-778f-4075-edb7-3e290704ed36"
      },
      "source": [
        "# Imports\n",
        "\n",
        "import os\n",
        "import numpy as np\n",
        "import pandas as pd\n",
        "\n",
        "from sklearn.preprocessing import OneHotEncoder\n",
        "import tensorflow.compat.v1 as tf\n",
        "\n",
        "tf.disable_v2_behavior()"
      ],
      "execution_count": 2,
      "outputs": [
        {
          "output_type": "stream",
          "text": [
            "WARNING:tensorflow:From /usr/local/lib/python3.6/dist-packages/tensorflow/python/compat/v2_compat.py:96: disable_resource_variables (from tensorflow.python.ops.variable_scope) is deprecated and will be removed in a future version.\n",
            "Instructions for updating:\n",
            "non-resource variables are not supported in the long term\n"
          ],
          "name": "stdout"
        }
      ]
    },
    {
      "cell_type": "code",
      "metadata": {
        "id": "C45kScVEgpoT",
        "colab_type": "code",
        "colab": {
          "base_uri": "https://localhost:8080/",
          "height": 145
        },
        "outputId": "50682309-45a5-49a7-c5ff-691e98af8868"
      },
      "source": [
        "import os\n",
        "for dirName, _ , signFiles in os.walk(\"/content/gdrive/My Drive/kaggle/SignLanguage\"):\n",
        "  for signFile in signFiles:\n",
        "    print(os.path.join(dirName,signFile)) "
      ],
      "execution_count": 3,
      "outputs": [
        {
          "output_type": "stream",
          "text": [
            "/content/gdrive/My Drive/kaggle/SignLanguage/amer_sign2.png\n",
            "/content/gdrive/My Drive/kaggle/SignLanguage/amer_sign3.png\n",
            "/content/gdrive/My Drive/kaggle/SignLanguage/american_sign_language.PNG\n",
            "/content/gdrive/My Drive/kaggle/SignLanguage/sign_mnist_test.csv\n",
            "/content/gdrive/My Drive/kaggle/SignLanguage/sign_mnist_train.csv\n",
            "/content/gdrive/My Drive/kaggle/SignLanguage/sign_mnist_test/sign_mnist_test.csv\n",
            "/content/gdrive/My Drive/kaggle/SignLanguage/sign_mnist_train/sign_mnist_train.csv\n"
          ],
          "name": "stdout"
        }
      ]
    },
    {
      "cell_type": "code",
      "metadata": {
        "id": "FtfcyWO5E17-",
        "colab_type": "code",
        "colab": {}
      },
      "source": [
        "learning_rate=0.0001"
      ],
      "execution_count": 4,
      "outputs": []
    },
    {
      "cell_type": "code",
      "metadata": {
        "id": "2KSfQSkcH9AM",
        "colab_type": "code",
        "colab": {}
      },
      "source": [
        "train=pd.read_csv(\"/content/gdrive/My Drive/kaggle/SignLanguage/sign_mnist_train/sign_mnist_train.csv\")\n",
        "test=pd.read_csv(\"/content/gdrive/My Drive/kaggle/SignLanguage/sign_mnist_test/sign_mnist_test.csv\")\n",
        "\n",
        "X_train=train.drop(\"label\",axis=1)\n",
        "X_test=test.drop('label',axis=1)\n",
        "y_train=train['label']\n",
        "y_test=test['label']\n",
        "\n",
        "X_train = (X_train/255).values\n",
        "X_test = (X_test/255).values"
      ],
      "execution_count": 5,
      "outputs": []
    },
    {
      "cell_type": "code",
      "metadata": {
        "id": "pgyRpX-qKLTV",
        "colab_type": "code",
        "colab": {}
      },
      "source": [
        "encoder=OneHotEncoder()\n",
        "\n",
        "y_train = encoder.fit_transform(y_train.values.reshape(-1,1)).toarray()\n",
        "y_test = encoder.fit_transform(y_test.values.reshape(-1,1)).toarray()"
      ],
      "execution_count": 6,
      "outputs": []
    },
    {
      "cell_type": "code",
      "metadata": {
        "id": "GKshPEM5KZvr",
        "colab_type": "code",
        "colab": {
          "base_uri": "https://localhost:8080/",
          "height": 35
        },
        "outputId": "2cb6236a-6154-488e-a0f3-cba0b9e7fccf"
      },
      "source": [
        "((X_train.shape,y_train.shape),(X_test.shape,y_test.shape)) "
      ],
      "execution_count": 7,
      "outputs": [
        {
          "output_type": "execute_result",
          "data": {
            "text/plain": [
              "(((27455, 784), (27455, 24)), ((7172, 784), (7172, 24)))"
            ]
          },
          "metadata": {
            "tags": []
          },
          "execution_count": 7
        }
      ]
    },
    {
      "cell_type": "code",
      "metadata": {
        "id": "gadLrRN5griz",
        "colab_type": "code",
        "colab": {}
      },
      "source": [
        "def createCNNLayer(inputData,inputChannelsCount, filterCount, filterShape,poolShape, name):\n",
        "\n",
        "  #Initialising filter\n",
        "  convFilterShape=[filterShape[0],filterShape[1],inputChannelsCount,filterCount]\n",
        "\n",
        "  weights= tf.Variable(tf.truncated_normal(convFilterShape,stddev=0.03),name=name+\"_W\")\n",
        "  bias= tf.Variable(tf.truncated_normal([filterCount]),name=name+\"_b\")\n",
        "\n",
        "  outLayer=tf.nn.conv2d(inputData,weights, [1,1,1,1],padding=\"SAME\")\n",
        "\n",
        "  outLayer+=bias\n",
        "\n",
        "  outLayer = tf.nn.relu(outLayer)\n",
        "\n",
        "\n",
        "  ksize = [1,poolShape[0],poolShape[1],1]\n",
        "\n",
        "  stride=[1,2,2,1]\n",
        "\n",
        "  outLayer=tf.nn.max_pool(outLayer,ksize,stride,padding=\"SAME\")\n",
        "\n",
        "  return outLayer"
      ],
      "execution_count": 8,
      "outputs": []
    },
    {
      "cell_type": "code",
      "metadata": {
        "id": "1oy5dLk_oHn1",
        "colab_type": "code",
        "colab": {}
      },
      "source": [
        "x=tf.placeholder(tf.float32,[None, 784],name=\"input\")\n",
        "\n",
        "X_Shaped=tf.reshape(x,[-1,28,28,1])\n",
        "\n",
        "y=tf.placeholder(tf.float32,[None,24])"
      ],
      "execution_count": 9,
      "outputs": []
    },
    {
      "cell_type": "code",
      "metadata": {
        "id": "Lowsy7nUsCYJ",
        "colab_type": "code",
        "colab": {}
      },
      "source": [
        "layer1= createCNNLayer(X_Shaped,1,32,[5,5],[2,2],\"layer1\")\n",
        "layer2= createCNNLayer(layer1,32,64,[5,5],[2,2],\"layer2\")\n",
        "\n",
        "flattenedArray=tf.reshape(layer2,[-1,7*7*64])"
      ],
      "execution_count": 10,
      "outputs": []
    },
    {
      "cell_type": "code",
      "metadata": {
        "id": "2oROS0jEskB9",
        "colab_type": "code",
        "colab": {}
      },
      "source": [
        "wd1 = tf.Variable(tf.truncated_normal([7*7*64,1000],stddev=0.03,name=\"wd1\"))\n",
        "bd1 = tf.Variable(tf.truncated_normal([1000],stddev=0.01,name=\"bd1\"))\n",
        "denseLayer1 = tf.nn.relu((tf.matmul(flattenedArray,wd1)+bd1))\n",
        "\n",
        "\n",
        "wd2 = tf.Variable(tf.truncated_normal([1000,24],stddev=0.03,name=\"wd2\"))\n",
        "bd2 = tf.Variable(tf.truncated_normal([24],stddev=0.01,name=\"bd2\"))\n",
        "denseLayer2=tf.matmul(denseLayer1,wd2)+bd2\n",
        "yhat = tf.nn.softmax(denseLayer2,name=\"y_\")\n",
        "\n",
        "loss = tf.reduce_mean(tf.nn.softmax_cross_entropy_with_logits_v2(logits=denseLayer2,labels=y))\n",
        "\n",
        "optimiser= tf.train.AdamOptimizer(learning_rate).minimize(loss)\n",
        "\n",
        "saver=tf.train.Saver()\n",
        "\n",
        "corr_pred= tf.equal(tf.argmax(yhat, 1),tf.argmax(y,1))\n",
        "accuracy = tf.reduce_mean(tf.cast(corr_pred,tf.float32))"
      ],
      "execution_count": 11,
      "outputs": []
    },
    {
      "cell_type": "code",
      "metadata": {
        "id": "4EqrFIg4HR-1",
        "colab_type": "code",
        "colab": {
          "base_uri": "https://localhost:8080/",
          "height": 72
        },
        "outputId": "9173cad4-aed9-41e0-ad63-48d8a9868c5b"
      },
      "source": [
        "with tf.Session() as sess:\n",
        "\n",
        "  sess.run(tf.global_variables_initializer())\n",
        "\n",
        "  numBatches = int(len(y_train)/50)\n",
        "\n",
        "  for epoch in range(2):\n",
        "    \n",
        "    cost=0\n",
        "    a=0\n",
        "\n",
        "    for i in range(numBatches):\n",
        "     \n",
        "      batch_x = X_train[a:a+50]\n",
        "      batch_y = y_train[a:a+50]\n",
        "\n",
        "      _ , c= sess.run([optimiser,loss],feed_dict={x:batch_x,y:batch_y})\n",
        "\n",
        "      cost += c/numBatches\n",
        "      a+=50\n",
        "    \n",
        "\n",
        "    saver.save(sess,\"/content/HandModel_final.ckpt\")\n",
        "    \n",
        "    tf.train.write_graph(sess.graph.as_graph_def(), '.', 'HandRecognitionModel.pbtxt', as_text=True)\n",
        "\n",
        "    testDataAccuracy  = sess.run(accuracy,feed_dict={x:X_test,y:y_test})\n",
        "    print(\"total cost at \", epoch+1,\" iteration \",cost,\" test Accuracy: \", testDataAccuracy)\n",
        "\n",
        "  print(\"Training Complete!!!\")"
      ],
      "execution_count": 12,
      "outputs": [
        {
          "output_type": "stream",
          "text": [
            "total cost at  1  iteration  2.95365956051102  test Accuracy:  0.3087005\n",
            "total cost at  2  iteration  1.4753863092762969  test Accuracy:  0.6019241\n",
            "Training Complete!!!\n"
          ],
          "name": "stdout"
        }
      ]
    },
    {
      "cell_type": "code",
      "metadata": {
        "id": "GAaWnqpat4Nx",
        "colab_type": "code",
        "colab": {
          "base_uri": "https://localhost:8080/",
          "height": 90
        },
        "outputId": "04b50417-498b-4ab3-9363-b11ae174056f"
      },
      "source": [
        "!ls"
      ],
      "execution_count": 13,
      "outputs": [
        {
          "output_type": "stream",
          "text": [
            "checkpoint\t\t\t\t  HandModel_final.ckpt.meta\n",
            "gdrive\t\t\t\t\t  HandRecognitionModel.pbtxt\n",
            "HandModel_final.ckpt.data-00000-of-00001  sample_data\n",
            "HandModel_final.ckpt.index\n"
          ],
          "name": "stdout"
        }
      ]
    },
    {
      "cell_type": "code",
      "metadata": {
        "id": "4682LDIQbvOT",
        "colab_type": "code",
        "colab": {}
      },
      "source": [
        "# tf.reset_default_graph()\n",
        "# imported_meta=tf.train.import_meta_graph(\"model_final.meta\")"
      ],
      "execution_count": 14,
      "outputs": []
    },
    {
      "cell_type": "code",
      "metadata": {
        "id": "mL0oP_txb_Xw",
        "colab_type": "code",
        "colab": {
          "base_uri": "https://localhost:8080/",
          "height": 35
        },
        "outputId": "87ad26cd-1867-4ae0-85c1-f2a92d64cea9"
      },
      "source": [
        "!pwd"
      ],
      "execution_count": 15,
      "outputs": [
        {
          "output_type": "stream",
          "text": [
            "/content\n"
          ],
          "name": "stdout"
        }
      ]
    },
    {
      "cell_type": "code",
      "metadata": {
        "id": "nx556Jd-ctH0",
        "colab_type": "code",
        "colab": {
          "base_uri": "https://localhost:8080/",
          "height": 255
        },
        "outputId": "26e5eeef-e69a-48a6-c784-73c3197bf018"
      },
      "source": [
        "from tensorflow.python.tools import freeze_graph\n",
        "\n",
        "freeze_graph.freeze_graph('HandRecognitionModel.pbtxt', \"\", False, \n",
        "                          'HandModel_final.ckpt', \"y_\",\n",
        "                           \"save/restore_all\", \"save/Const:0\",\n",
        "                           'frozentensorflowModel.pb', True, \"\"  \n",
        "                         )"
      ],
      "execution_count": 16,
      "outputs": [
        {
          "output_type": "stream",
          "text": [
            "WARNING:tensorflow:From /usr/local/lib/python3.6/dist-packages/tensorflow/python/tools/freeze_graph.py:127: checkpoint_exists (from tensorflow.python.training.checkpoint_management) is deprecated and will be removed in a future version.\n",
            "Instructions for updating:\n",
            "Use standard file APIs to check for files with this prefix.\n",
            "INFO:tensorflow:Restoring parameters from HandModel_final.ckpt\n",
            "WARNING:tensorflow:From /usr/local/lib/python3.6/dist-packages/tensorflow/python/tools/freeze_graph.py:233: convert_variables_to_constants (from tensorflow.python.framework.graph_util_impl) is deprecated and will be removed in a future version.\n",
            "Instructions for updating:\n",
            "Use `tf.compat.v1.graph_util.convert_variables_to_constants`\n",
            "WARNING:tensorflow:From /usr/local/lib/python3.6/dist-packages/tensorflow/python/framework/graph_util_impl.py:359: extract_sub_graph (from tensorflow.python.framework.graph_util_impl) is deprecated and will be removed in a future version.\n",
            "Instructions for updating:\n",
            "Use `tf.compat.v1.graph_util.extract_sub_graph`\n",
            "INFO:tensorflow:Froze 8 variables.\n",
            "INFO:tensorflow:Converted 8 variables to const ops.\n"
          ],
          "name": "stdout"
        }
      ]
    },
    {
      "cell_type": "code",
      "metadata": {
        "id": "_fM9L2gmN_N6",
        "colab_type": "code",
        "colab": {
          "base_uri": "https://localhost:8080/",
          "height": 35
        },
        "outputId": "54ef6c94-9c19-4ace-b0fa-2692beeba321"
      },
      "source": [
        "converter = tf.lite.TFLiteConverter.from_frozen_graph(\"frozentensorflowModel.pb\", [\"input\"], [\"y_\"])\n",
        "\n",
        "tflite_model = converter.convert()\n",
        "open(\"frozentensorflowModel.lite\", \"wb\").write(tflite_model)"
      ],
      "execution_count": 18,
      "outputs": [
        {
          "output_type": "execute_result",
          "data": {
            "text/plain": [
              "12854736"
            ]
          },
          "metadata": {
            "tags": []
          },
          "execution_count": 18
        }
      ]
    },
    {
      "cell_type": "code",
      "metadata": {
        "id": "vionZiNBUOhN",
        "colab_type": "code",
        "colab": {}
      },
      "source": [
        ""
      ],
      "execution_count": null,
      "outputs": []
    }
  ]
}