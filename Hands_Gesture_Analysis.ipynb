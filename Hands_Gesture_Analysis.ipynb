{
  "nbformat": 4,
  "nbformat_minor": 0,
  "metadata": {
    "colab": {
      "name": "Hands Gesture Analysis",
      "provenance": [],
      "collapsed_sections": [],
      "authorship_tag": "ABX9TyO3nb+5k5Blspnt8m03hjmr",
      "include_colab_link": true
    },
    "kernelspec": {
      "name": "python3",
      "display_name": "Python 3"
    },
    "accelerator": "GPU"
  },
  "cells": [
    {
      "cell_type": "markdown",
      "metadata": {
        "id": "view-in-github",
        "colab_type": "text"
      },
      "source": [
        "<a href=\"https://colab.research.google.com/github/gaurav-adhikari/Hand_Gesture_Detector_TF/blob/master/Hands_Gesture_Analysis.ipynb\" target=\"_parent\"><img src=\"https://colab.research.google.com/assets/colab-badge.svg\" alt=\"Open In Colab\"/></a>"
      ]
    },
    {
      "cell_type": "code",
      "metadata": {
        "id": "Secap5aJgGWG",
        "colab_type": "code",
        "colab": {
          "base_uri": "https://localhost:8080/",
          "height": 35
        },
        "outputId": "f0e02a10-8eb0-4df5-c3ba-02fb933fb535"
      },
      "source": [
        "from google.colab import drive\n",
        "drive.mount(\"/content/gdrive\")"
      ],
      "execution_count": 57,
      "outputs": [
        {
          "output_type": "stream",
          "text": [
            "Drive already mounted at /content/gdrive; to attempt to forcibly remount, call drive.mount(\"/content/gdrive\", force_remount=True).\n"
          ],
          "name": "stdout"
        }
      ]
    },
    {
      "cell_type": "code",
      "metadata": {
        "id": "8O9QRro9gZ-H",
        "colab_type": "code",
        "colab": {}
      },
      "source": [
        "# Imports\n",
        "\n",
        "import os\n",
        "import numpy as np\n",
        "import pandas as pd\n",
        "\n",
        "from sklearn.preprocessing import OneHotEncoder\n",
        "import tensorflow.compat.v1 as tf\n",
        "\n",
        "tf.disable_v2_behavior()"
      ],
      "execution_count": 58,
      "outputs": []
    },
    {
      "cell_type": "code",
      "metadata": {
        "id": "C45kScVEgpoT",
        "colab_type": "code",
        "colab": {
          "base_uri": "https://localhost:8080/",
          "height": 145
        },
        "outputId": "e9c231da-361e-4426-d7cc-72ccfb76d061"
      },
      "source": [
        "import os\n",
        "for dirName, _ , signFiles in os.walk(\"/content/gdrive/My Drive/kaggle/SignLanguage\"):\n",
        "  for signFile in signFiles:\n",
        "    print(os.path.join(dirName,signFile)) "
      ],
      "execution_count": 59,
      "outputs": [
        {
          "output_type": "stream",
          "text": [
            "/content/gdrive/My Drive/kaggle/SignLanguage/amer_sign2.png\n",
            "/content/gdrive/My Drive/kaggle/SignLanguage/amer_sign3.png\n",
            "/content/gdrive/My Drive/kaggle/SignLanguage/american_sign_language.PNG\n",
            "/content/gdrive/My Drive/kaggle/SignLanguage/sign_mnist_test.csv\n",
            "/content/gdrive/My Drive/kaggle/SignLanguage/sign_mnist_train.csv\n",
            "/content/gdrive/My Drive/kaggle/SignLanguage/sign_mnist_test/sign_mnist_test.csv\n",
            "/content/gdrive/My Drive/kaggle/SignLanguage/sign_mnist_train/sign_mnist_train.csv\n"
          ],
          "name": "stdout"
        }
      ]
    },
    {
      "cell_type": "code",
      "metadata": {
        "id": "FtfcyWO5E17-",
        "colab_type": "code",
        "colab": {}
      },
      "source": [
        "learning_rate=0.0001"
      ],
      "execution_count": 60,
      "outputs": []
    },
    {
      "cell_type": "code",
      "metadata": {
        "id": "2KSfQSkcH9AM",
        "colab_type": "code",
        "colab": {}
      },
      "source": [
        "train=pd.read_csv(\"/content/gdrive/My Drive/kaggle/SignLanguage/sign_mnist_train/sign_mnist_train.csv\")\n",
        "test=pd.read_csv(\"/content/gdrive/My Drive/kaggle/SignLanguage/sign_mnist_test/sign_mnist_test.csv\")\n",
        "\n",
        "X_train=train.drop(\"label\",axis=1)\n",
        "X_test=test.drop('label',axis=1)\n",
        "y_train=train['label']\n",
        "y_test=test['label']\n",
        "\n",
        "X_train = (X_train/255).values\n",
        "X_test = (X_test/255).values"
      ],
      "execution_count": 61,
      "outputs": []
    },
    {
      "cell_type": "code",
      "metadata": {
        "id": "57a6uwLVaEkh",
        "colab_type": "code",
        "colab": {
          "base_uri": "https://localhost:8080/",
          "height": 54
        },
        "outputId": "1ae0ba0f-615b-40b0-e468-60d792386747"
      },
      "source": [
        "train['label'].unique()"
      ],
      "execution_count": 62,
      "outputs": [
        {
          "output_type": "execute_result",
          "data": {
            "text/plain": [
              "array([ 3,  6,  2, 13, 16,  8, 22, 18, 10, 20, 17, 19, 21, 23, 24,  1, 12,\n",
              "       11, 15,  4,  0,  5,  7, 14])"
            ]
          },
          "metadata": {
            "tags": []
          },
          "execution_count": 62
        }
      ]
    },
    {
      "cell_type": "code",
      "metadata": {
        "id": "pgyRpX-qKLTV",
        "colab_type": "code",
        "colab": {}
      },
      "source": [
        "encoder=OneHotEncoder()\n",
        "\n",
        "y_train = encoder.fit_transform(y_train.values.reshape(-1,1)).toarray()\n",
        "y_test = encoder.fit_transform(y_test.values.reshape(-1,1)).toarray()"
      ],
      "execution_count": 63,
      "outputs": []
    },
    {
      "cell_type": "code",
      "metadata": {
        "id": "GKshPEM5KZvr",
        "colab_type": "code",
        "colab": {
          "base_uri": "https://localhost:8080/",
          "height": 35
        },
        "outputId": "3425bdd5-4149-4c6f-f016-e762ae95cf69"
      },
      "source": [
        "((X_train.shape,y_train.shape),(X_test.shape,y_test.shape)) "
      ],
      "execution_count": 64,
      "outputs": [
        {
          "output_type": "execute_result",
          "data": {
            "text/plain": [
              "(((27455, 784), (27455, 24)), ((7172, 784), (7172, 24)))"
            ]
          },
          "metadata": {
            "tags": []
          },
          "execution_count": 64
        }
      ]
    },
    {
      "cell_type": "code",
      "metadata": {
        "id": "gadLrRN5griz",
        "colab_type": "code",
        "colab": {}
      },
      "source": [
        "def createCNNLayer(inputData,inputChannelsCount, filterCount, filterShape,poolShape, name):\n",
        "\n",
        "  #Initialising filter\n",
        "  convFilterShape=[filterShape[0],filterShape[1],inputChannelsCount,filterCount]\n",
        "\n",
        "  weights= tf.Variable(tf.truncated_normal(convFilterShape,stddev=0.03),name=name+\"_W\")\n",
        "  bias= tf.Variable(tf.truncated_normal([filterCount]),name=name+\"_b\")\n",
        "\n",
        "  outLayer=tf.nn.conv2d(inputData,weights, [1,1,1,1],padding=\"SAME\")\n",
        "\n",
        "  outLayer+=bias\n",
        "\n",
        "  outLayer = tf.nn.relu(outLayer)\n",
        "\n",
        "\n",
        "  ksize = [1,poolShape[0],poolShape[1],1]\n",
        "\n",
        "  stride=[1,2,2,1]\n",
        "\n",
        "  outLayer=tf.nn.max_pool(outLayer,ksize,stride,padding=\"SAME\")\n",
        "\n",
        "  return outLayer"
      ],
      "execution_count": 65,
      "outputs": []
    },
    {
      "cell_type": "code",
      "metadata": {
        "id": "1oy5dLk_oHn1",
        "colab_type": "code",
        "colab": {}
      },
      "source": [
        "x=tf.placeholder(tf.float32,[None, 784],name=\"input\")\n",
        "\n",
        "X_Shaped=tf.reshape(x,[-1,28,28,1])\n",
        "\n",
        "y=tf.placeholder(tf.float32,[None,24])"
      ],
      "execution_count": 66,
      "outputs": []
    },
    {
      "cell_type": "code",
      "metadata": {
        "id": "Lowsy7nUsCYJ",
        "colab_type": "code",
        "colab": {}
      },
      "source": [
        "layer1= createCNNLayer(X_Shaped,1,32,[5,5],[2,2],\"layer1\")\n",
        "layer2= createCNNLayer(layer1,32,64,[5,5],[2,2],\"layer2\")\n",
        "\n",
        "flattenedArray=tf.reshape(layer2,[-1,7*7*64])"
      ],
      "execution_count": 67,
      "outputs": []
    },
    {
      "cell_type": "code",
      "metadata": {
        "id": "2oROS0jEskB9",
        "colab_type": "code",
        "colab": {}
      },
      "source": [
        "wd1 = tf.Variable(tf.truncated_normal([7*7*64,1000],stddev=0.03,name=\"wd1\"))\n",
        "bd1 = tf.Variable(tf.truncated_normal([1000],stddev=0.01,name=\"bd1\"))\n",
        "denseLayer1 = tf.nn.relu((tf.matmul(flattenedArray,wd1)+bd1))\n",
        "\n",
        "\n",
        "wd2 = tf.Variable(tf.truncated_normal([1000,24],stddev=0.03,name=\"wd2\"))\n",
        "bd2 = tf.Variable(tf.truncated_normal([24],stddev=0.01,name=\"bd2\"))\n",
        "denseLayer2=tf.matmul(denseLayer1,wd2)+bd2\n",
        "yhat = tf.nn.softmax(denseLayer2,name=\"y_\")\n",
        "\n",
        "loss = tf.reduce_mean(tf.nn.softmax_cross_entropy_with_logits_v2(logits=denseLayer2,labels=y))\n",
        "\n",
        "optimiser= tf.train.AdamOptimizer(learning_rate).minimize(loss)\n",
        "\n",
        "saver=tf.train.Saver()\n",
        "\n",
        "corr_pred= tf.equal(tf.argmax(yhat, 1),tf.argmax(y,1))\n",
        "accuracy = tf.reduce_mean(tf.cast(corr_pred,tf.float32))"
      ],
      "execution_count": 68,
      "outputs": []
    },
    {
      "cell_type": "code",
      "metadata": {
        "id": "4EqrFIg4HR-1",
        "colab_type": "code",
        "colab": {
          "base_uri": "https://localhost:8080/",
          "height": 399
        },
        "outputId": "2f522e60-269f-49c9-98d6-ff8bdf0d3db7"
      },
      "source": [
        "with tf.Session() as sess:\n",
        "\n",
        "  sess.run(tf.global_variables_initializer())\n",
        "\n",
        "  numBatches = int(len(y_train)/50)\n",
        "\n",
        "  for epoch in range(20):\n",
        "    \n",
        "    cost=0\n",
        "    a=0\n",
        "\n",
        "    for i in range(numBatches):\n",
        "     \n",
        "      batch_x = X_train[a:a+50]\n",
        "      batch_y = y_train[a:a+50]\n",
        "\n",
        "      _ , c= sess.run([optimiser,loss],feed_dict={x:batch_x,y:batch_y})\n",
        "\n",
        "      cost += c/numBatches\n",
        "      a+=50\n",
        "    \n",
        "\n",
        "    saver.save(sess,\"/content/HandModel_final.ckpt\")\n",
        "    \n",
        "    tf.train.write_graph(sess.graph.as_graph_def(), '.', 'HandRecognitionModel.pbtxt', as_text=True)\n",
        "\n",
        "    testDataAccuracy  = sess.run(accuracy,feed_dict={x:X_test,y:y_test})\n",
        "    print(\"total cost at \", epoch+1,\" iteration \",cost,\" test Accuracy: \", testDataAccuracy)\n",
        "\n",
        "  print(\"Training Complete!!!\")"
      ],
      "execution_count": 69,
      "outputs": [
        {
          "output_type": "stream",
          "text": [
            "total cost at  1  iteration  3.0102530741735003  test Accuracy:  0.28778583\n",
            "total cost at  2  iteration  1.5071635174620996  test Accuracy:  0.6169827\n",
            "total cost at  3  iteration  0.7477047630129406  test Accuracy:  0.72685444\n",
            "total cost at  4  iteration  0.43049810197075444  test Accuracy:  0.78834355\n",
            "total cost at  5  iteration  0.2553459032827173  test Accuracy:  0.81929725\n",
            "total cost at  6  iteration  0.14770033509082034  test Accuracy:  0.8365867\n",
            "total cost at  7  iteration  0.08422515868380641  test Accuracy:  0.85373676\n",
            "total cost at  8  iteration  0.049278026753748275  test Accuracy:  0.86349696\n",
            "total cost at  9  iteration  0.03000241624554432  test Accuracy:  0.875488\n",
            "total cost at  10  iteration  0.019464153792193434  test Accuracy:  0.88385385\n",
            "total cost at  11  iteration  0.012887808773115288  test Accuracy:  0.89319575\n",
            "total cost at  12  iteration  0.00841393373768357  test Accuracy:  0.9008645\n",
            "total cost at  13  iteration  0.003951291330069646  test Accuracy:  0.9047685\n",
            "total cost at  14  iteration  0.002720012745348386  test Accuracy:  0.9050474\n",
            "total cost at  15  iteration  0.023413918403650327  test Accuracy:  0.8980759\n",
            "total cost at  16  iteration  0.0024738541753574145  test Accuracy:  0.90699947\n",
            "total cost at  17  iteration  0.0011494163306248046  test Accuracy:  0.90699947\n",
            "total cost at  18  iteration  0.0008274377409037099  test Accuracy:  0.9082543\n",
            "total cost at  19  iteration  0.0006431631246068094  test Accuracy:  0.9081149\n",
            "total cost at  20  iteration  0.0005062272620868945  test Accuracy:  0.90936977\n",
            "Training Complete!!!\n"
          ],
          "name": "stdout"
        }
      ]
    },
    {
      "cell_type": "code",
      "metadata": {
        "id": "nx556Jd-ctH0",
        "colab_type": "code",
        "colab": {
          "base_uri": "https://localhost:8080/",
          "height": 126
        },
        "outputId": "92da2167-f906-4991-b70e-ed6e9fd41463"
      },
      "source": [
        "from tensorflow.python.tools import freeze_graph\n",
        "\n",
        "freeze_graph.freeze_graph('HandRecognitionModel.pbtxt', \"\", False, \n",
        "                          'HandModel_final.ckpt', \"y_\",\n",
        "                           \"save/restore_all\", \"save/Const:0\",\n",
        "                           'frozentensorflowModel.pb', True, \"\"  \n",
        "                         )"
      ],
      "execution_count": 71,
      "outputs": [
        {
          "output_type": "stream",
          "text": [
            "INFO:tensorflow:Restoring parameters from HandModel_final.ckpt\n"
          ],
          "name": "stdout"
        },
        {
          "output_type": "stream",
          "text": [
            "INFO:tensorflow:Restoring parameters from HandModel_final.ckpt\n"
          ],
          "name": "stderr"
        },
        {
          "output_type": "stream",
          "text": [
            "INFO:tensorflow:Froze 8 variables.\n"
          ],
          "name": "stdout"
        },
        {
          "output_type": "stream",
          "text": [
            "INFO:tensorflow:Froze 8 variables.\n"
          ],
          "name": "stderr"
        },
        {
          "output_type": "stream",
          "text": [
            "INFO:tensorflow:Converted 8 variables to const ops.\n"
          ],
          "name": "stdout"
        },
        {
          "output_type": "stream",
          "text": [
            "INFO:tensorflow:Converted 8 variables to const ops.\n"
          ],
          "name": "stderr"
        }
      ]
    },
    {
      "cell_type": "code",
      "metadata": {
        "id": "_fM9L2gmN_N6",
        "colab_type": "code",
        "colab": {
          "base_uri": "https://localhost:8080/",
          "height": 35
        },
        "outputId": "01b0b810-4cc3-42c7-fdb3-fbfc1579df5f"
      },
      "source": [
        "converter = tf.lite.TFLiteConverter.from_frozen_graph(\"frozentensorflowModel.pb\", [\"input\"], [\"y_\"])\n",
        "\n",
        "tflite_model = converter.convert()\n",
        "open(\"frozentensorflowModel_final.tflite\", \"wb\").write(tflite_model)"
      ],
      "execution_count": 72,
      "outputs": [
        {
          "output_type": "execute_result",
          "data": {
            "text/plain": [
              "12854736"
            ]
          },
          "metadata": {
            "tags": []
          },
          "execution_count": 72
        }
      ]
    },
    {
      "cell_type": "code",
      "metadata": {
        "id": "vionZiNBUOhN",
        "colab_type": "code",
        "colab": {
          "base_uri": "https://localhost:8080/",
          "height": 108
        },
        "outputId": "03425091-dd03-4711-aee5-e7621bc61373"
      },
      "source": [
        "!ls"
      ],
      "execution_count": 73,
      "outputs": [
        {
          "output_type": "stream",
          "text": [
            "checkpoint\t\t\t\t  HandModel_final.ckpt.index\n",
            "frozentensorflowModel_final.tflite\t  HandModel_final.ckpt.meta\n",
            "frozentensorflowModel.pb\t\t  HandRecognitionModel.pbtxt\n",
            "gdrive\t\t\t\t\t  sample_data\n",
            "HandModel_final.ckpt.data-00000-of-00001\n"
          ],
          "name": "stdout"
        }
      ]
    },
    {
      "cell_type": "code",
      "metadata": {
        "id": "3wxacQ69569Z",
        "colab_type": "code",
        "colab": {}
      },
      "source": [
        ""
      ],
      "execution_count": null,
      "outputs": []
    }
  ]
}